{
 "cells": [
  {
   "cell_type": "code",
   "execution_count": 1,
   "id": "383a7e83-dad9-49f6-9fa2-01fa5bfc1524",
   "metadata": {},
   "outputs": [],
   "source": [
    "import pandas as pd\n",
    "import numpy as np\n",
    "import random\n",
    "import math\n",
    "import time"
   ]
  },
  {
   "cell_type": "code",
   "execution_count": 2,
   "id": "7e4c56e7-0bef-410b-8023-f6b14a1d1f10",
   "metadata": {},
   "outputs": [],
   "source": [
    "import pandas as pd\n",
    "import numpy as np\n",
    "import random\n",
    "import math\n",
    "import time\n",
    "from numpy import random"
   ]
  },
  {
   "cell_type": "code",
   "execution_count": 3,
   "id": "c2248939-a694-42f7-a281-442bcd85e785",
   "metadata": {},
   "outputs": [],
   "source": [
    "x = 1\n",
    "y=x/5"
   ]
  },
  {
   "cell_type": "code",
   "execution_count": 4,
   "id": "792c25f5-9ba4-4b86-ab43-7e730e7e91ea",
   "metadata": {},
   "outputs": [
    {
     "data": {
      "text/plain": [
       "1"
      ]
     },
     "execution_count": 4,
     "metadata": {},
     "output_type": "execute_result"
    }
   ],
   "source": [
    "x"
   ]
  },
  {
   "cell_type": "code",
   "execution_count": 21,
   "id": "2da6611b-5dd7-45c4-969e-259265ae3eb5",
   "metadata": {},
   "outputs": [
    {
     "name": "stdout",
     "output_type": "stream",
     "text": [
      "Czas wykonania pętli:  0.11369585990905762 sekundy\n",
      "100003\n",
      "<class 'numpy.int32'>\n"
     ]
    }
   ],
   "source": [
    "start_time = time.time()\n",
    "for i in range (1, 100000):\n",
    "    x=x+1\n",
    "end_time = time.time()\n",
    "execution_time = end_time - start_time\n",
    "print(\"Czas wykonania pętli: \", execution_time, \"sekundy\")\n",
    "print(f\"{x}\")\n",
    "print(f\"{type(x)}\")"
   ]
  },
  {
   "cell_type": "code",
   "execution_count": 20,
   "id": "d6e25418-7b73-4a3b-b744-c2aea953a2fb",
   "metadata": {},
   "outputs": [
    {
     "name": "stdout",
     "output_type": "stream",
     "text": [
      "Czas wykonania pętli:  5.750670671463013 sekundy\n",
      "<class 'numpy.int32'>\n"
     ]
    }
   ],
   "source": [
    "start_time = time.time()\n",
    "for i in range (1, 100000):\n",
    "    x=np.random.choice(range(1,5))\n",
    "end_time = time.time()\n",
    "execution_time = end_time - start_time\n",
    "print(\"Czas wykonania pętli: \", execution_time, \"sekundy\")\n",
    "print(f\"{type(x)}\")"
   ]
  }
 ],
 "metadata": {
  "kernelspec": {
   "display_name": "Python 3 (ipykernel)",
   "language": "python",
   "name": "python3"
  },
  "language_info": {
   "codemirror_mode": {
    "name": "ipython",
    "version": 3
   },
   "file_extension": ".py",
   "mimetype": "text/x-python",
   "name": "python",
   "nbconvert_exporter": "python",
   "pygments_lexer": "ipython3",
   "version": "3.9.13"
  }
 },
 "nbformat": 4,
 "nbformat_minor": 5
}
